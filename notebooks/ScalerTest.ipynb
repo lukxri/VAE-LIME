{
 "cells": [
  {
   "cell_type": "code",
   "execution_count": 1,
   "metadata": {},
   "outputs": [],
   "source": [
    "from __future__ import print_function\n",
    "\n",
    "import warnings\n",
    "\n",
    "warnings.filterwarnings('ignore')\n",
    "\n",
    "import argparse\n",
    "import torch\n",
    "import torch.utils.data\n",
    "from torch.utils.data import DataLoader, TensorDataset\n",
    "from torch import nn, optim\n",
    "from torch.nn import functional as F\n",
    "\n",
    "import numpy as np\n",
    "from sklearn.model_selection import train_test_split\n",
    "from sklearn.preprocessing import StandardScaler\n",
    "\n",
    "from fooling_lime.utils import *\n",
    "from fooling_lime.get_data import *"
   ]
  },
  {
   "cell_type": "code",
   "execution_count": 2,
   "metadata": {},
   "outputs": [],
   "source": [
    "# Set up experiment parameters\n",
    "params = Params(\"fooling_lime/model_configurations/experiment_params.json\")\n",
    "X, y, cols = get_and_preprocess_german(params)\n",
    "\n",
    "features = [c for c in X]\n",
    "\n",
    "gender_indc = features.index('Gender')\n",
    "loan_rate_indc = features.index('LoanRateAsPercentOfIncome')\n",
    "\n",
    "X = X.values\n",
    "\n",
    "xtrain, xtest, ytrain, ytest = train_test_split(X, y, test_size=0.1)\n",
    "ss = StandardScaler().fit(xtrain)"
   ]
  },
  {
   "cell_type": "code",
   "execution_count": 36,
   "metadata": {},
   "outputs": [
    {
     "data": {
      "text/plain": [
       "array([ 0.67028006, -0.19601428,  0.90819465,  2.76645648, -1.23647786,\n",
       "       -0.74513141,  0.91847717])"
      ]
     },
     "execution_count": 36,
     "metadata": {},
     "output_type": "execute_result"
    }
   ],
   "source": [
    "scaler = StandardScaler().fit(X[:,:7].reshape(-1,7))\n",
    "tmp = scaler.transform(X[:,:7].reshape(-1,7))\n",
    "tmp[0,:7]"
   ]
  },
  {
   "cell_type": "code",
   "execution_count": 35,
   "metadata": {},
   "outputs": [
    {
     "name": "stdout",
     "output_type": "stream",
     "text": [
      "[1.000e+00 0.000e+00 1.000e+00 6.700e+01 6.000e+00 1.169e+03 4.000e+00]\n",
      "[   1    0    1   67    6 1169    4]\n"
     ]
    }
   ],
   "source": [
    "inv = scaler.inverse_transform(tmp)\n",
    "print(inv[0])\n",
    "print(X[0,:7])"
   ]
  },
  {
   "cell_type": "code",
   "execution_count": null,
   "metadata": {},
   "outputs": [],
   "source": []
  }
 ],
 "metadata": {
  "kernelspec": {
   "display_name": "Python 3",
   "language": "python",
   "name": "python3"
  },
  "language_info": {
   "codemirror_mode": {
    "name": "ipython",
    "version": 3
   },
   "file_extension": ".py",
   "mimetype": "text/x-python",
   "name": "python",
   "nbconvert_exporter": "python",
   "pygments_lexer": "ipython3",
   "version": "3.7.7"
  }
 },
 "nbformat": 4,
 "nbformat_minor": 4
}
